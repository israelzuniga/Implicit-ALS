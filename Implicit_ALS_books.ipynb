{
 "cells": [
  {
   "cell_type": "markdown",
   "metadata": {},
   "source": [
    "# Implicit ALS\n",
    "\n",
    "We usually consider using ALS on a set of user/product ratings. But what if the data isn't so self explanatory?\n",
    "\n",
    "### A day trip to the library\n",
    "Consider, for example, the data collected by a local library. The library records which users took out each books and how long they kept the books before returning them. \n",
    "\n",
    "As such, we have no explicit indication that a user liked or disliked the books they took out - Just because you borrowed a book does not mean that you enjoyed it, or even read it.\n",
    "Furthermore, the missing data is of interest - the fact that a user has not taken out a specific book could indicate that they dislike that genre, or that they haven't been to that section of the library.\n",
    "\n",
    "Furthermore the same user action could have many different causes. Suppose you withdraw a book three times. That might indicate that you loved the book, but it may also indicate that the book doesn't appeal to you as strongly as some other books you withdrew so you never got round to reading it the first two times.\n",
    "\n",
    "To make the situation even worse, implicit data is often dirty. For example, a user may withdraw a library book for their child using their account, or they may accidentally pick up a book that was sitting on the counter. \n",
    "\n",
    "### The solution\n",
    "Based on the standard ALS implementation, [Hu et al. (2008)](https://www.google.ca/url?sa=t&rct=j&q=&esrc=s&source=web&cd=1&cad=rja&uact=8&ved=0ahUKEwi899eAu6baAhUurlkKHaVvB6UQFggsMAA&url=http%3A%2F%2Fyifanhu.net%2FPUB%2Fcf.pdf&usg=AOvVaw3WIcPGTpxR8m7C32F8whFx) presented a methodolgy for carrying out ALS when dealing with implicit data. \n",
    "\n",
    "The general idea is that we have some recorded observations $r_{u,i}$ denoting the level of interaction user $u$ had with product $i$. For example, if a user $1$ borrowed book $4$ once we may set $r_{1,4}=1$. Alternatively we may wish to allow $r_{u,i}$ to hold information about how many days the book was borrowed for. (There is a lot of freedom in this set up, so we need to make some data specific decisions regarding how we will select $r_{u,i}$).\n",
    "\n",
    "Given the set of observations $r_{u,i}$, a binary indicator $p_{u,i}$ is introduced where:\n",
    "\n",
    "$ p_{u,i} = \\begin{cases} 1 & \\mbox{if } r_{i,j}>0 \\\\\n",
    "0 & \\mbox{otherwise.} \\end{cases} $\n",
    "\n",
    "\n",
    "A confidence parameter $\\alpha$ lets the user determine how much importance they wish to place on the recorded $r_{u,i}$. This leads to the introduction of $c_{u,i}$ which we take to be the confidence we have in the strength of user $u$'s reaction to product $i$: \n",
    "$c_{u,i} = 1 + \\alpha r_{u,i}$.\n",
    "\n",
    "Let $N_u$ denote the number of users, and $N_p$ denote the number of products. Let $k\\in \\mathbb{R}^+$ be a user defined number of factors. \n",
    "Now, in implicit ALS the goal is to find matrices $X\\in \\mathbb{R}^{N_u \\times k}$ and $Y\\in \\mathbb{R}^{N_p \\times k}$ such that the following cost function is minimised:\n",
    "\n",
    "$\\sum_{u,i} c_{u,i}(p_{u,i}-X_u^T Y_i)^2 + \\lambda (\\sum_u \\| X_u\\|^2 + \\sum_{i} \\| y_u\\|^2), $\n",
    "\n",
    "\n",
    "where\n",
    "$X_u$ is the $u$th row of X, \n",
    "$Y_i$ is the $i$th row of Y,\n",
    "\\lambda is a user defined parameter which prevents overfitting. \n",
    "\n",
    "With this minimisation at hand, we are able to recover estimates of $c_{u,i}$, and thus of $r_{u,i}$ for interactions which have not yet occured. \n",
    "\n",
    "### Let's get going\n",
    "We are going to run implicit ALS using the implementation given in the pyspark.mllib.recommendation module. \n",
    "\n",
    "The data I'm using can be found at http://www2.informatik.uni-freiburg.de/~cziegler/BX/"
   ]
  },
  {
   "cell_type": "code",
   "execution_count": 2,
   "metadata": {
    "collapsed": true
   },
   "outputs": [],
   "source": [
    "#Set up a spark context\n",
    "\n",
    "from pyspark import SparkContext,  SparkConf\n",
    "\n",
    "conf = SparkConf().setAppName(\"implicitALS\")\n",
    "sc = SparkContext(conf=conf)"
   ]
  },
  {
   "cell_type": "code",
   "execution_count": 3,
   "metadata": {
    "collapsed": true
   },
   "outputs": [],
   "source": [
    "#Load in the data\n",
    "#The data is csv, with ';' as a delimiter, hence the split command. \n",
    "#The data has quote marks around all info, so I remove these with a replace mapping. \n",
    "#The first bit of data is user id, the second is the book isbn number, \n",
    "# and the third is the observation. \n",
    "ratings = sc.textFile('implicit.csv').map(lambda x: x.replace('\"',\"\")) \\\n",
    "            .map(lambda x:x.split(\";\"))\\\n",
    "            .map(lambda x:(int(x[0]), str(x[1]), int(x[2])))"
   ]
  },
  {
   "cell_type": "code",
   "execution_count": 4,
   "metadata": {
    "collapsed": true
   },
   "outputs": [],
   "source": [
    "#Need the isbns to be linked to an int for item id\n",
    "isbns=ratings.map(lambda x:x[1]).distinct()\n",
    "isbns_with_indices=isbns.zipWithIndex()\n",
    "reordered_ratings = ratings.map(lambda x:(x[1], (x[0], x[2])))\n",
    "joined = reordered_ratings.join(isbns_with_indices)\n",
    "ratings_int_nice = joined.map(lambda x: (x[1][0][0], x[1][1], x[1][0][1]))"
   ]
  },
  {
   "cell_type": "code",
   "execution_count": 5,
   "metadata": {
    "collapsed": true
   },
   "outputs": [],
   "source": [
    "#Need 1s not 0s. since the matrix is singular if 0s. i.e. 1 indicates response, not 0.\n",
    "ratings_ones = ratings_int_nice.map(lambda x:(x[0], x[1], 1))"
   ]
  },
  {
   "cell_type": "code",
   "execution_count": 14,
   "metadata": {
    "collapsed": true
   },
   "outputs": [],
   "source": [
    "from pyspark.mllib.recommendation import ALS\n",
    "model=ALS.trainImplicit(ratings_ones, rank=5, iterations=3, alpha=0.99)"
   ]
  },
  {
   "cell_type": "code",
   "execution_count": 32,
   "metadata": {},
   "outputs": [
    {
     "data": {
      "text/plain": [
       "[83211,\n",
       " 35018,\n",
       " 149718,\n",
       " 201265,\n",
       " 170534,\n",
       " 168010,\n",
       " 176140,\n",
       " 139616,\n",
       " 219591,\n",
       " 222162,\n",
       " 244957]"
      ]
     },
     "execution_count": 32,
     "metadata": {},
     "output_type": "execute_result"
    }
   ],
   "source": [
    "#Pretend to be user 8. \n",
    "users_books = ratings_ones.filter(lambda x: x[0] is 8).map(lambda x:x[1])\n",
    "\n",
    "users_books.take(10)\n",
    "books_for_them = users_books.collect()\n",
    "iterable_chain = users_books.toLocalIterator()\n",
    "books_for_them"
   ]
  },
  {
   "cell_type": "code",
   "execution_count": 35,
   "metadata": {},
   "outputs": [
    {
     "data": {
      "text/plain": [
       "[(8, 0),\n",
       " (8, 1),\n",
       " (8, 2),\n",
       " (8, 3),\n",
       " (8, 4),\n",
       " (8, 5),\n",
       " (8, 6),\n",
       " (8, 7),\n",
       " (8, 8),\n",
       " (8, 9)]"
      ]
     },
     "execution_count": 35,
     "metadata": {},
     "output_type": "execute_result"
    }
   ],
   "source": [
    "unseen = isbns_with_indices.map(lambda x:x[1]).filter(lambda x: x not in books_for_them).map(lambda x: (8, int(x)))\n",
    "unseen"
   ]
  },
  {
   "cell_type": "code",
   "execution_count": 37,
   "metadata": {
    "collapsed": true
   },
   "outputs": [],
   "source": [
    "#Using the predict all function to give predictions for any unseens. \n",
    "predictions = model.predictAll(unseen)\n"
   ]
  },
  {
   "cell_type": "code",
   "execution_count": 38,
   "metadata": {},
   "outputs": [
    {
     "data": {
      "text/plain": [
       "[Rating(user=8, product=185544, rating=4.2271030054993974e-06),\n",
       " Rating(user=8, product=152288, rating=2.0750792412236027e-05),\n",
       " Rating(user=8, product=143464, rating=1.0009329102651996e-05),\n",
       " Rating(user=8, product=23776, rating=4.4093986779524005e-05),\n",
       " Rating(user=8, product=155312, rating=7.568740395670591e-06),\n",
       " Rating(user=8, product=82512, rating=-2.370503477555326e-06),\n",
       " Rating(user=8, product=170792, rating=-1.5023831712554203e-08),\n",
       " Rating(user=8, product=103184, rating=-1.21955109500547e-08),\n",
       " Rating(user=8, product=40888, rating=-8.983168069646947e-06),\n",
       " Rating(user=8, product=200376, rating=1.584185955094937e-05)]"
      ]
     },
     "execution_count": 38,
     "metadata": {},
     "output_type": "execute_result"
    }
   ],
   "source": [
    "predictions.take(10)"
   ]
  },
  {
   "cell_type": "code",
   "execution_count": 40,
   "metadata": {},
   "outputs": [
    {
     "data": {
      "text/plain": [
       "[Rating(user=8, product=218987, rating=0.005679459189748123),\n",
       " Rating(user=8, product=37124, rating=0.0056743738510453045),\n",
       " Rating(user=8, product=222388, rating=0.003184519694282364),\n",
       " Rating(user=8, product=61040, rating=0.002636430903826744),\n",
       " Rating(user=8, product=278, rating=0.0023415537266199974),\n",
       " Rating(user=8, product=224398, rating=0.0023259600211237154),\n",
       " Rating(user=8, product=232462, rating=0.002162405558826569),\n",
       " Rating(user=8, product=170112, rating=0.002145339089236659),\n",
       " Rating(user=8, product=215022, rating=0.0021304683630739008),\n",
       " Rating(user=8, product=127891, rating=0.002008426523603443),\n",
       " Rating(user=8, product=74810, rating=0.001978164272045892),\n",
       " Rating(user=8, product=111968, rating=0.0019664236210441216),\n",
       " Rating(user=8, product=226501, rating=0.0019470256951683467),\n",
       " Rating(user=8, product=155093, rating=0.0017297421250543385),\n",
       " Rating(user=8, product=134108, rating=0.0016752060544477018),\n",
       " Rating(user=8, product=158268, rating=0.0016475328355897317),\n",
       " Rating(user=8, product=181869, rating=0.001506617157074433),\n",
       " Rating(user=8, product=223924, rating=0.0015025012477668637),\n",
       " Rating(user=8, product=104641, rating=0.0014719921538684858),\n",
       " Rating(user=8, product=112511, rating=0.0013891314387473564)]"
      ]
     },
     "execution_count": 40,
     "metadata": {},
     "output_type": "execute_result"
    }
   ],
   "source": [
    "predictions.takeOrdered(20, lambda x: -x[2])"
   ]
  },
  {
   "cell_type": "code",
   "execution_count": 41,
   "metadata": {},
   "outputs": [
    {
     "data": {
      "text/plain": [
       "[Rating(user=8, product=218987, rating=0.005679459189748123),\n",
       " Rating(user=8, product=37124, rating=0.0056743738510453045),\n",
       " Rating(user=8, product=222388, rating=0.003184519694282364),\n",
       " Rating(user=8, product=61040, rating=0.002636430903826744),\n",
       " Rating(user=8, product=278, rating=0.0023415537266199974),\n",
       " Rating(user=8, product=224398, rating=0.0023259600211237154),\n",
       " Rating(user=8, product=232462, rating=0.002162405558826569),\n",
       " Rating(user=8, product=170112, rating=0.002145339089236659),\n",
       " Rating(user=8, product=215022, rating=0.0021304683630739008),\n",
       " Rating(user=8, product=127891, rating=0.002008426523603443)]"
      ]
     },
     "execution_count": 41,
     "metadata": {},
     "output_type": "execute_result"
    }
   ],
   "source": [
    "model.recommendProducts(8,10)"
   ]
  },
  {
   "cell_type": "code",
   "execution_count": null,
   "metadata": {
    "collapsed": true
   },
   "outputs": [],
   "source": []
  }
 ],
 "metadata": {
  "kernelspec": {
   "display_name": "Python 2",
   "language": "python",
   "name": "python2"
  },
  "language_info": {
   "codemirror_mode": {
    "name": "ipython",
    "version": 2
   },
   "file_extension": ".py",
   "mimetype": "text/x-python",
   "name": "python",
   "nbconvert_exporter": "python",
   "pygments_lexer": "ipython2",
   "version": "2.7.14"
  }
 },
 "nbformat": 4,
 "nbformat_minor": 2
}
